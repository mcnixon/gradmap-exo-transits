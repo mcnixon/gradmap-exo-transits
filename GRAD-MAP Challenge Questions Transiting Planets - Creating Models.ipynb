{
 "cells": [
  {
   "cell_type": "markdown",
   "id": "b3e5c09e",
   "metadata": {},
   "source": [
    "# Learning goals\n",
    "\n",
    "By the end of this tutorial, you will:\n",
    "\n",
    "- Become familiar the planetary parameters that impact the shape of a lightcurve.\n",
    "- Use the batman package to create a theoretical lightcurve model.\n",
    "- Compare theoretical lightcurve models to observed data."
   ]
  },
  {
   "cell_type": "markdown",
   "id": "4835eb75",
   "metadata": {},
   "source": [
    "# Introduction\n",
    "\n",
    "In this tutorial, we will create theoretical models of lightcurves for transiting exoplanets using the batman package. \n",
    "\n",
    "If you haven't installed batman yet, you can find out how to do so here: https://lkreidberg.github.io/batman/docs/html/index.html"
   ]
  },
  {
   "cell_type": "markdown",
   "id": "240badce-d4a5-4101-81dc-dd28d0989b36",
   "metadata": {},
   "source": [
    "# Tutorial\n",
    "\n",
    "First, we import the relevant Python packages:"
   ]
  },
  {
   "cell_type": "code",
   "execution_count": 1,
   "id": "1925b2f1-86ee-4d5e-b45c-582135848ac8",
   "metadata": {},
   "outputs": [],
   "source": [
    "import numpy as np               #create and work with arrays\n",
    "import matplotlib.pyplot as plt  #make plots\n",
    "import batman                    #generate lightcurve models"
   ]
  },
  {
   "cell_type": "markdown",
   "id": "2b872c9d-2e86-4e51-aec1-150e7d155ad9",
   "metadata": {},
   "source": [
    "We can check that batman is working correctly by running some tests:"
   ]
  },
  {
   "cell_type": "code",
   "execution_count": 2,
   "id": "0cd0034e-88d4-43b2-9766-d4582a707a75",
   "metadata": {},
   "outputs": [
    {
     "name": "stdout",
     "output_type": "stream",
     "text": [
      "\n",
      "Starting tests...\n",
      "\n",
      "Testing uniform limb darkening model...\t\n",
      "\ttest passed\n",
      "Testing linear limb darkening model...\t\n",
      "\ttest passed\n",
      "Testing quadratic limb darkening model...\t\n",
      "\ttest passed\n",
      "Testing exponential limb darkening model...\t\n",
      "\ttest passed\n",
      "Testing logarithmic limb darkening model...\t\n",
      "\ttest passed\n",
      "Testing nonlinear limb darkening model...\t\n",
      "\ttest passed\n",
      "\n",
      "Testing error tolerance...\n",
      "\t10.0 ppm passed\n",
      "\t1.0 ppm passed\n",
      "\t0.1 ppm passed\n",
      "\t0.01 ppm passed\n",
      "\n",
      "Testing multithreading...\n",
      "\tOpenMP not supported; test ignored\n",
      "\n",
      "Congratulations! all tests passed\n",
      "\n",
      "  ____       ____\n",
      "  )   \\     /   (\n",
      "   )_  \\_V_/  _(\n",
      "     )__   __(\n",
      "        `-'\n"
     ]
    },
    {
     "name": "stderr",
     "output_type": "stream",
     "text": [
      "/var/folders/81/lk37y3ms3c9fhd4187dp25hw0000gn/T/hasfunction-tfwj65fs/funcname.c:2:5: error: implicit declaration of function 'omp_get_num_threads' is invalid in C99 [-Werror,-Wimplicit-function-declaration]\n",
      "    omp_get_num_threads();\n",
      "    ^\n",
      "1 error generated.\n",
      "/var/folders/81/lk37y3ms3c9fhd4187dp25hw0000gn/T/hasfunction-hziifiav/funcname.c:2:5: error: implicit declaration of function 'omp_get_num_threads' is invalid in C99 [-Werror,-Wimplicit-function-declaration]\n",
      "    omp_get_num_threads();\n",
      "    ^\n",
      "1 error generated.\n"
     ]
    }
   ],
   "source": [
    "batman.test()"
   ]
  },
  {
   "cell_type": "markdown",
   "id": "842e550d-fade-4690-82ea-d3cb6902a31e",
   "metadata": {},
   "source": [
    "Depending on your computing setup you might see some warnings about OpenMP, but you can ignore these. Next, we define the planetary parameters for our model lightcurve."
   ]
  },
  {
   "cell_type": "code",
   "execution_count": 3,
   "id": "5e06be5d-8146-4d3b-a8be-9297f46811dd",
   "metadata": {},
   "outputs": [],
   "source": [
    "params = batman.TransitParams()\n",
    "\n",
    "params.t0 = 0.                       #time of inferior conjunction\n",
    "params.per = 1.                      #orbital period\n",
    "params.rp = 0.1                      #planet radius (in units of stellar radii)\n",
    "params.a = 15.                       #semi-major axis (in units of stellar radii)\n",
    "params.inc = 87.                     #orbital inclination (in degrees)\n",
    "params.ecc = 0.                      #eccentricity\n",
    "params.w = 90.                       #longitude of periastron (in degrees)\n",
    "params.u = [0.1, 0.3]                #limb darkening coefficients [u1, u2]\n",
    "params.limb_dark = \"quadratic\"       #limb darkening model"
   ]
  },
  {
   "cell_type": "markdown",
   "id": "56086e66-b59e-4e3e-96ee-c8cb98cd47a4",
   "metadata": {},
   "source": [
    "We can use np.linspace to create our time array:"
   ]
  },
  {
   "cell_type": "code",
   "execution_count": 4,
   "id": "5588e4a3-b5f7-4271-9dc3-e0b7defa8a8b",
   "metadata": {},
   "outputs": [],
   "source": [
    "t = np.linspace(-0.05, 0.05, 100)"
   ]
  },
  {
   "cell_type": "markdown",
   "id": "d6fabcc3-553f-49bd-b7fb-3360d5ce3cf8",
   "metadata": {},
   "source": [
    "Then we generate and plot the model:"
   ]
  },
  {
   "cell_type": "code",
   "execution_count": 5,
   "id": "c5a3b284-d716-4c4d-a83a-b67d3679e8ea",
   "metadata": {},
   "outputs": [
    {
     "data": {
      "image/png": "[encoded data removed]",
      "text/plain": [
       "<Figure size 640x480 with 1 Axes>"
      ]
     },
     "metadata": {},
     "output_type": "display_data"
    }
   ],
   "source": [
    "m = batman.TransitModel(params, t)    #initializes model\n",
    "flux = m.light_curve(params)          #calculates light curve\n",
    "\n",
    "plt.plot(t, flux)\n",
    "plt.xlabel(\"Time from central transit\")\n",
    "plt.ylabel(\"Relative flux\")\n",
    "plt.show()"
   ]
  },
  {
   "cell_type": "markdown",
   "id": "a675c34e",
   "metadata": {},
   "source": [
    "Congratulations! You've just created a model lightcurve. Using what you've learned, here are three exercises for you to carry out:"
   ]
  },
  {
   "cell_type": "markdown",
   "id": "dad99731-8809-42ff-9af9-fc360cddbd10",
   "metadata": {},
   "source": [
    "# Exercises\n",
    "\n",
    " - 1. Create a figure showing how the above lightcurve changes as the planet-to-star radius ratio changes from 0.09 to 0.11.\n",
    " - 2. Compare a set of lightcurves with varying orbital semimajor axes from 5 to 20 stellar radii, keeping the other parameters the same as in the first example. Now repeat this, but change the orbital inclination from 87 degrees to 90 degrees. Why do the resulting lightcurves look different?\n",
    " - 3. Look up the parameters of the planet WASP-12b using the NASA Exoplanet Archive. Use those parameters to create a model lightcurve for the planet. Overplot this model on top of one transit from the lightcurve you downloaded in the previous notebook.\n",
    " \n",
    "Write your code for exercise 1 here:"
   ]
  },
  {
   "cell_type": "code",
   "execution_count": null,
   "id": "22d1f32a-b2f0-43f4-8ee9-356f4941b25d",
   "metadata": {},
   "outputs": [],
   "source": []
  },
  {
   "cell_type": "markdown",
   "id": "2dfd384b",
   "metadata": {},
   "source": [
    "Now write your code for task 2 here. In this cell, start with the case where the inclination is 87 degrees..."
   ]
  },
  {
   "cell_type": "code",
   "execution_count": null,
   "id": "cca4c447-af33-4e62-88be-d418ad722412",
   "metadata": {},
   "outputs": [],
   "source": []
  },
  {
   "cell_type": "markdown",
   "id": "825038e1",
   "metadata": {},
   "source": [
    "...and now in this cell consider the case where the inclination is 90 degrees:"
   ]
  },
  {
   "cell_type": "code",
   "execution_count": null,
   "id": "8bf15eef-44fb-4544-8896-4bcdddc453be",
   "metadata": {},
   "outputs": [],
   "source": []
  },
  {
   "cell_type": "markdown",
   "id": "5210b260",
   "metadata": {},
   "source": [
    "Finally, write your code for task 3 here:"
   ]
  },
  {
   "cell_type": "code",
   "execution_count": null,
   "id": "675fb68d-952e-4947-b335-69e4564f07eb",
   "metadata": {},
   "outputs": [],
   "source": []
  },
  {
   "cell_type": "code",
   "execution_count": null,
   "id": "518c56cf-3250-49cc-9683-0940b79897bd",
   "metadata": {},
   "outputs": [],
   "source": []
  }
 ],
 "metadata": {
  "kernelspec": {
   "display_name": "Python 3 (ipykernel)",
   "language": "python",
   "name": "python3"
  },
  "language_info": {
   "codemirror_mode": {
    "name": "ipython",
    "version": 3
   },
   "file_extension": ".py",
   "mimetype": "text/x-python",
   "name": "python",
   "nbconvert_exporter": "python",
   "pygments_lexer": "ipython3",
   "version": "3.9.13"
  }
 },
 "nbformat": 4,
 "nbformat_minor": 5
}
